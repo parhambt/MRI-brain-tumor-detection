{
 "cells": [
  {
   "cell_type": "code",
   "execution_count": 3,
   "id": "34c4c89d",
   "metadata": {},
   "outputs": [],
   "source": [
    "from tensorflow.keras.layers import Conv2D, Input, ZeroPadding2D, BatchNormalization, Activation, MaxPooling2D, Flatten, Dense\n",
    "from tensorflow.keras.models import Model, load_model\n",
    "from tensorflow.keras.callbacks import TensorBoard, ModelCheckpoint\n",
    "from sklearn.model_selection import train_test_split\n",
    "from sklearn.metrics import f1_score\n",
    "from sklearn.utils import shuffle\n",
    "from math import ceil\n",
    "import pandas as pd \n",
    "import cv2 as cv\n",
    "import os\n",
    "import numpy as np\n",
    "from numpy import zeros\n",
    "import tensorflow as tf\n",
    "import matplotlib.pyplot as plt\n",
    "import sklearn as sk\n",
    "import keras \n",
    "from PIL import Image, ImageEnhance\n",
    "import random\n",
    "from tensorflow.keras import datasets, layers, models\n",
    "%matplotlib inline"
   ]
  },
  {
   "cell_type": "markdown",
   "id": "a3ba898a",
   "metadata": {},
   "source": [
    "# Functions"
   ]
  },
  {
   "cell_type": "code",
   "execution_count": 4,
   "id": "d8bd12e0",
   "metadata": {},
   "outputs": [],
   "source": [
    "\n",
    "###########################################################################\n",
    "def load_data(dir_list, image_size):\n",
    "\n",
    "\n",
    "    # load all images in a directory\n",
    "    data = []\n",
    "    label = []\n",
    "    image_width, image_height = image_size\n",
    "    \n",
    "    for directory in dir_list:\n",
    "        for filename in os.listdir(directory):\n",
    "\n",
    "            image = cv.imread(directory + '\\\\' + filename,0)\n",
    "\n",
    "            image = cv.resize(image, dsize=(image_width, image_height), interpolation=cv.INTER_CUBIC)\n",
    "\n",
    "            image = image / 255.\n",
    "\n",
    "            data.append(image)\n",
    "\n",
    "            if directory == 'yes':\n",
    "                label.append([1]) ## have tumor\n",
    "            else:\n",
    "                label.append([0]) ## donot have tumor \n",
    "\n",
    "    data_array = np.array(data)\n",
    "    label = np.array(label) \n",
    "    return data_array, label\n",
    "#------------------------------------------------\n",
    "def replace_argmax(array,to_array=True):\n",
    "    lst=[]\n",
    "    for item in array :\n",
    "        arg_max=np.argmax(item)\n",
    "        lst.append([arg_max])\n",
    "    if to_array==True :\n",
    "        lst=np.array(lst)\n",
    "    return lst\n",
    "#---------------------------------------\n",
    "def predict_on_custome_image(img_path,img_or_directory=False,plot=False):\n",
    "    dict_1={}\n",
    "    if img_or_directory==False :\n",
    "        array=cv.imread(img_path,0)\n",
    "        \n",
    "        shape_array=array.shape\n",
    "        array_1=cv.resize(array,(100,100))\n",
    "        y,x=array_1.shape\n",
    "\n",
    "        array=array_1.reshape(1,y,x)\n",
    "        #-------\n",
    "#         print(array.shape)\n",
    "        y_predict=Model.predict(array)\n",
    "        y_predict_res=replace_argmax(y_predict)\n",
    "\n",
    "\n",
    "        if y_predict_res==np.array([0]) :\n",
    "            predicted='do not have tumor'\n",
    "            \n",
    "        else : \n",
    "            predicted='have tumor'\n",
    "        \n",
    "        dict_1.update({img_path:predicted})\n",
    "        if plot==True :\n",
    "            plt.imshow(array_1,cmap='gray')\n",
    "            plt.title(predicted)\n",
    "            plt.axis('off')\n",
    "    else :\n",
    "        all_img=os.listdir(img_path)\n",
    "        image_count=len(all_img)\n",
    "        \n",
    "        if plot==True :\n",
    "            rows,columns=3,ceil(image_count/3)\n",
    "            fig = plt.figure(figsize=(10, 7))\n",
    "            \n",
    "        for c,path in enumerate(all_img) :\n",
    "            array=cv.imread(img_path+'/'+path,0)\n",
    "        \n",
    "            shape_array=array.shape\n",
    "            array_1=cv.resize(array,(100,100))\n",
    "            y,x=array_1.shape\n",
    "\n",
    "            array=array_1.reshape(1,y,x)\n",
    "        #-------\n",
    "            \n",
    "            y_predict=Model.predict(array)\n",
    "            y_predict_res=replace_argmax(y_predict)\n",
    "            if y_predict_res==np.array([0]) :\n",
    "                predicted='do not have tumor'\n",
    "            \n",
    "            else : \n",
    "                predicted='have tumor'\n",
    "            dict_1.update({path:predicted})\n",
    "            if plot==True :\n",
    "                fig.add_subplot(rows, columns, c+1)\n",
    "                plt.imshow(array_1,cmap='gray')\n",
    "                plt.title(predicted)\n",
    "                plt.axis('off')\n",
    "    return dict_1           \n",
    "# b=predict_on_custome_image('no',img_or_directory=True)\n",
    "# print(b)\n",
    "#-------------------------------------------------------\n",
    "        \n"
   ]
  },
  {
   "cell_type": "code",
   "execution_count": 5,
   "id": "7929274f",
   "metadata": {},
   "outputs": [],
   "source": [
    "# b=predict_on_custome_image('no',img_or_directory=True)\n",
    "# print(b)\n",
    "# g=0\n",
    "# lst=[]\n",
    "# for key,value in b.items():\n",
    "#     if value!='do not have tumor':\n",
    "#         lst.append(key)\n",
    "#         g+=1\n",
    "# print(g/len(b))\n",
    "# print(len(b))\n",
    "# print(lst)\n",
    "# print(len(lst))"
   ]
  },
  {
   "cell_type": "code",
   "execution_count": 6,
   "id": "f837115a",
   "metadata": {},
   "outputs": [],
   "source": [
    "# b_2=predict_on_custome_image('yes',img_or_directory=True)\n",
    "# print(b_2)\n",
    "# g_2=0\n",
    "# lst_2=[]\n",
    "# for key,value in b_2.items():\n",
    "#     if value!='have tumor':\n",
    "#         lst_2.append(key)\n",
    "#         g_2+=1\n",
    "# print(g_2/len(b_2))\n",
    "# print(len(b_2))\n",
    "# print(lst_2)\n",
    "# print(len(lst_2))"
   ]
  },
  {
   "cell_type": "markdown",
   "id": "f19e1fe8",
   "metadata": {},
   "source": [
    "# loading data \n",
    "now time to load out data with pre procssing like resizing ...\n"
   ]
  },
  {
   "cell_type": "code",
   "execution_count": 7,
   "id": "74d06c68",
   "metadata": {},
   "outputs": [
    {
     "data": {
      "text/plain": [
       "Text(0.5, 1.0, 'sample_image')"
      ]
     },
     "execution_count": 7,
     "metadata": {},
     "output_type": "execute_result"
    },
    {
     "data": {
      "image/png": "[encoded data removed]",
      "text/plain": [
       "<Figure size 640x480 with 1 Axes>"
      ]
     },
     "metadata": {},
     "output_type": "display_data"
    }
   ],
   "source": [
    "x,y=load_data(['yes','no'],(100,100))\n",
    "# print(x[2])\n",
    "# print(y[2])\n",
    "plt.imshow(x[2], cmap='gray')\n",
    "plt.axis('off')\n",
    "plt.title('sample_image')"
   ]
  },
  {
   "cell_type": "markdown",
   "id": "56e8ac39",
   "metadata": {},
   "source": [
    "# splitting data\n",
    "- 0.8 persent for training\n",
    "- 0.2 persent for testing and evaluating"
   ]
  },
  {
   "cell_type": "code",
   "execution_count": 8,
   "id": "800fac06",
   "metadata": {},
   "outputs": [
    {
     "name": "stdout",
     "output_type": "stream",
     "text": [
      "(2400, 100, 100) (2400, 1)\n",
      "(600, 100, 100) (600, 1)\n"
     ]
    }
   ],
   "source": [
    "x_train, x_test, y_train, y_test = train_test_split(x, y, test_size=0.2)\n",
    "print(x_train.shape,(y_train).shape)\n",
    "print(x_test.shape,(y_test).shape)\n",
    "# x_train.reshape(-1,100,100,1)   \n",
    "# x_test.reshape(-1,100,100,1)\n",
    " "
   ]
  },
  {
   "cell_type": "markdown",
   "id": "6e8c8738",
   "metadata": {},
   "source": [
    "# Build Model\n",
    "\n"
   ]
  },
  {
   "cell_type": "code",
   "execution_count": null,
   "id": "b6b396c3",
   "metadata": {},
   "outputs": [],
   "source": []
  },
  {
   "cell_type": "code",
   "execution_count": 15,
   "id": "1436245b",
   "metadata": {},
   "outputs": [],
   "source": [
    "Model = keras.models.Sequential([\n",
    "        keras.layers.Conv2D(150,kernel_size=(3,3),activation='relu',input_shape=(100,100,1)),\n",
    "        keras.layers.Conv2D(150,kernel_size=(3,3),activation='relu'),\n",
    "        keras.layers.MaxPool2D(4,4),\n",
    "        keras.layers.Conv2D(120,kernel_size=(3,3),activation='relu'),    \n",
    "        keras.layers.Conv2D(70,kernel_size=(3,3),activation='relu'),    \n",
    "        keras.layers.Conv2D(60,kernel_size=(3,3),activation='relu'),\n",
    "        keras.layers.MaxPool2D(4,4),\n",
    "        keras.layers.Flatten() ,    \n",
    "        keras.layers.Dense(120,activation='relu') ,    \n",
    "        keras.layers.Dense(100,activation='relu') ,    \n",
    "        keras.layers.Dense(50,activation='relu') ,        \n",
    "        keras.layers.Dropout(rate=0.5) ,            \n",
    "        keras.layers.Dense(2,activation='softmax') ,    \n",
    "        ])"
   ]
  },
  {
   "cell_type": "code",
   "execution_count": 16,
   "id": "83dc0d7e",
   "metadata": {},
   "outputs": [
    {
     "name": "stdout",
     "output_type": "stream",
     "text": [
      "Model: \"sequential\"\n",
      "_________________________________________________________________\n",
      " Layer (type)                Output Shape              Param #   \n",
      "=================================================================\n",
      " conv2d (Conv2D)             (None, 98, 98, 150)       1500      \n",
      "                                                                 \n",
      " conv2d_1 (Conv2D)           (None, 96, 96, 150)       202650    \n",
      "                                                                 \n",
      " max_pooling2d (MaxPooling2D  (None, 24, 24, 150)      0         \n",
      " )                                                               \n",
      "                                                                 \n",
      " conv2d_2 (Conv2D)           (None, 22, 22, 120)       162120    \n",
      "                                                                 \n",
      " conv2d_3 (Conv2D)           (None, 20, 20, 70)        75670     \n",
      "                                                                 \n",
      " conv2d_4 (Conv2D)           (None, 18, 18, 60)        37860     \n",
      "                                                                 \n",
      " max_pooling2d_1 (MaxPooling  (None, 4, 4, 60)         0         \n",
      " 2D)                                                             \n",
      "                                                                 \n",
      " flatten (Flatten)           (None, 960)               0         \n",
      "                                                                 \n",
      " dense (Dense)               (None, 120)               115320    \n",
      "                                                                 \n",
      " dense_1 (Dense)             (None, 100)               12100     \n",
      "                                                                 \n",
      " dense_2 (Dense)             (None, 50)                5050      \n",
      "                                                                 \n",
      " dropout (Dropout)           (None, 50)                0         \n",
      "                                                                 \n",
      " dense_3 (Dense)             (None, 2)                 102       \n",
      "                                                                 \n",
      "=================================================================\n",
      "Total params: 612,372\n",
      "Trainable params: 612,372\n",
      "Non-trainable params: 0\n",
      "_________________________________________________________________\n"
     ]
    }
   ],
   "source": [
    "Model.summary()"
   ]
  },
  {
   "cell_type": "code",
   "execution_count": 6,
   "id": "b1186335",
   "metadata": {},
   "outputs": [],
   "source": [
    "Model.compile(optimizer='adam',\n",
    "              loss=tf.keras.losses.SparseCategoricalCrossentropy(from_logits=True),\n",
    "              metrics=['accuracy'])"
   ]
  },
  {
   "cell_type": "code",
   "execution_count": 39,
   "id": "8723a1b0",
   "metadata": {},
   "outputs": [],
   "source": [
    "epochs = 17\n",
    "Model = Model.fit(x_train, y_train, epochs=epochs,batch_size=64,verbose=1)"
   ]
  },
  {
   "cell_type": "markdown",
   "id": "a8db80f8",
   "metadata": {},
   "source": [
    "# saving trained model"
   ]
  },
  {
   "cell_type": "code",
   "execution_count": 12,
   "id": "81fede6a",
   "metadata": {},
   "outputs": [],
   "source": [
    "import pickle\n",
    "with open(\"tumor_trained_model_by_parham\",'wb') as f :\n",
    "    pickle.dump(Model,f)"
   ]
  },
  {
   "cell_type": "markdown",
   "id": "4d188742",
   "metadata": {},
   "source": [
    "# load training model"
   ]
  },
  {
   "cell_type": "code",
   "execution_count": 9,
   "id": "f2c8c746",
   "metadata": {},
   "outputs": [],
   "source": [
    "import pickle\n",
    "with open(\"tumor_trained_model_by_parham\",'rb') as f : \n",
    "    Model=pickle.load(f)"
   ]
  },
  {
   "cell_type": "markdown",
   "id": "ec1c8fab",
   "metadata": {},
   "source": [
    "# evaluating"
   ]
  },
  {
   "cell_type": "code",
   "execution_count": 10,
   "id": "a59c3804",
   "metadata": {},
   "outputs": [
    {
     "name": "stderr",
     "output_type": "stream",
     "text": [
      "C:\\Users\\GIGA\\anaconda3\\lib\\site-packages\\keras\\backend.py:5612: UserWarning: \"`sparse_categorical_crossentropy` received `from_logits=True`, but the `output` argument was produced by a Softmax activation and thus does not represent logits. Was this intended?\n",
      "  output, from_logits = _get_logits(\n"
     ]
    },
    {
     "name": "stdout",
     "output_type": "stream",
     "text": [
      "19/19 [==============================] - 7s 368ms/step - loss: 0.0508 - accuracy: 0.9883\n",
      "it is Model accuracy: 0.9883333444595337\n",
      "it is Model loss: 0.050796691328287125\n"
     ]
    }
   ],
   "source": [
    "Model_loss, Model_accuracy = Model.evaluate(x_test, y_test)\n",
    "\n",
    "print(f\"it is Model accuracy: {Model_accuracy}\")\n",
    "print(f'it is Model loss: {Model_loss}')"
   ]
  },
  {
   "cell_type": "code",
   "execution_count": 13,
   "id": "b6451b6c",
   "metadata": {},
   "outputs": [
    {
     "name": "stdout",
     "output_type": "stream",
     "text": [
      "19/19 [==============================] - 7s 385ms/step\n"
     ]
    }
   ],
   "source": [
    "y_hat = Model.predict(x_test)\n",
    "y_hat=replace_argmax(y_hat)\n",
    "\n"
   ]
  },
  {
   "cell_type": "markdown",
   "id": "9f7948a7",
   "metadata": {},
   "source": [
    "# F1 score"
   ]
  },
  {
   "cell_type": "code",
   "execution_count": 12,
   "id": "6768a3e0",
   "metadata": {},
   "outputs": [
    {
     "name": "stdout",
     "output_type": "stream",
     "text": [
      "19/19 [==============================] - 7s 368ms/step\n",
      "F1 Score: 0.9876977152899824\n"
     ]
    }
   ],
   "source": [
    "\n",
    "f1=f1_score(y_test, y_hat)\n",
    "print(f'F1 Score: {f1}')\n"
   ]
  },
  {
   "cell_type": "code",
   "execution_count": 13,
   "id": "b7073079",
   "metadata": {},
   "outputs": [
    {
     "name": "stdout",
     "output_type": "stream",
     "text": [
      "0.9816666666666667\n",
      "[47, 100, 167, 273, 363, 467, 486, 501, 520, 559, 581]\n"
     ]
    }
   ],
   "source": [
    "# g=0\n",
    "# lst=[]\n",
    "# for item in range(len(x_test)) :\n",
    "    \n",
    "#     if y_hat[item]==y_test[item]:\n",
    "#         g+=1\n",
    "        \n",
    "#     else :\n",
    "#         lst.append(item)\n",
    "        \n",
    "# print(g/len(x_test))\n",
    "# print(lst)"
   ]
  },
  {
   "cell_type": "code",
   "execution_count": null,
   "id": "93da2268",
   "metadata": {},
   "outputs": [],
   "source": []
  }
 ],
 "metadata": {
  "kernelspec": {
   "display_name": "Python 3 (ipykernel)",
   "language": "python",
   "name": "python3"
  },
  "language_info": {
   "codemirror_mode": {
    "name": "ipython",
    "version": 3
   },
   "file_extension": ".py",
   "mimetype": "text/x-python",
   "name": "python",
   "nbconvert_exporter": "python",
   "pygments_lexer": "ipython3",
   "version": "3.10.9"
  }
 },
 "nbformat": 4,
 "nbformat_minor": 5
}
